{
 "cells": [
  {
   "cell_type": "code",
   "execution_count": 1,
   "id": "609de67a-5d31-43f2-b74c-697fc737b98b",
   "metadata": {},
   "outputs": [
    {
     "name": "stdin",
     "output_type": "stream",
     "text": [
      "my choice is:  Rock\n"
     ]
    },
    {
     "name": "stdout",
     "output_type": "stream",
     "text": [
      "I win\n"
     ]
    }
   ],
   "source": [
    "import random\n",
    "\n",
    "choices = ['paper','rock','scissor']\n",
    "com_choices=random.choice(choices)\n",
    "\n",
    "my_choice=input(\"my choice is: \").lower()\n",
    "\n",
    "if com_choices==my_choice:\n",
    "    print(\"it's a tie\")\n",
    "elif (com_choices==\"Paper\" and my_choice==\"rock\") or \\\n",
    "    (com_choices==\"rock\" and my_choice==\"scissor\") or \\\n",
    "    (com_choices==\"scissor\" and my_choice==\"paper\"): \n",
    "        print(\"Computer wins\")\n",
    "else: \n",
    "    print(\"I win\")\n",
    "    "
   ]
  },
  {
   "cell_type": "code",
   "execution_count": null,
   "id": "6884e1c0-8bb0-4967-933f-9a6bf95eba9f",
   "metadata": {},
   "outputs": [],
   "source": []
  }
 ],
 "metadata": {
  "kernelspec": {
   "display_name": "Python [conda env:base] *",
   "language": "python",
   "name": "conda-base-py"
  },
  "language_info": {
   "codemirror_mode": {
    "name": "ipython",
    "version": 3
   },
   "file_extension": ".py",
   "mimetype": "text/x-python",
   "name": "python",
   "nbconvert_exporter": "python",
   "pygments_lexer": "ipython3",
   "version": "3.12.7"
  }
 },
 "nbformat": 4,
 "nbformat_minor": 5
}
